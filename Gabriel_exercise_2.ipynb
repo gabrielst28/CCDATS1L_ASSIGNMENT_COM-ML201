{
  "cells": [
    {
      "cell_type": "markdown",
      "metadata": {
        "id": "4HRpOy-cXqLL"
      },
      "source": [
        "# Exercise 2\n",
        "\n",
        "**Instructions:**\n",
        "1. Do not remove the pre defined codes\n",
        "2. Do not remove and the instructions in each number.\n",
        "3. Put your answer in the designated cell after each instruction."
      ]
    },
    {
      "cell_type": "markdown",
      "metadata": {
        "id": "TwLlM93FXqLO"
      },
      "source": [
        "## Pre defines codes"
      ]
    },
    {
      "cell_type": "code",
      "execution_count": 1,
      "metadata": {
        "id": "3E3_9lSQXqLO",
        "colab": {
          "base_uri": "https://localhost:8080/"
        },
        "outputId": "ca8a7e05-9aa2-4f8e-dfec-31deb79ca417"
      },
      "outputs": [
        {
          "output_type": "stream",
          "name": "stdout",
          "text": [
            "Requirement already satisfied: scikit-learn in /usr/local/lib/python3.10/dist-packages (1.2.2)\n",
            "Collecting scikit-learn\n",
            "  Downloading scikit_learn-1.3.0-cp310-cp310-manylinux_2_17_x86_64.manylinux2014_x86_64.whl (10.8 MB)\n",
            "\u001b[2K     \u001b[90m━━━━━━━━━━━━━━━━━━━━━━━━━━━━━━━━━━━━━━━━\u001b[0m \u001b[32m10.8/10.8 MB\u001b[0m \u001b[31m25.2 MB/s\u001b[0m eta \u001b[36m0:00:00\u001b[0m\n",
            "\u001b[?25hRequirement already satisfied: numpy>=1.17.3 in /usr/local/lib/python3.10/dist-packages (from scikit-learn) (1.23.5)\n",
            "Requirement already satisfied: scipy>=1.5.0 in /usr/local/lib/python3.10/dist-packages (from scikit-learn) (1.11.2)\n",
            "Requirement already satisfied: joblib>=1.1.1 in /usr/local/lib/python3.10/dist-packages (from scikit-learn) (1.3.2)\n",
            "Requirement already satisfied: threadpoolctl>=2.0.0 in /usr/local/lib/python3.10/dist-packages (from scikit-learn) (3.2.0)\n",
            "Installing collected packages: scikit-learn\n",
            "  Attempting uninstall: scikit-learn\n",
            "    Found existing installation: scikit-learn 1.2.2\n",
            "    Uninstalling scikit-learn-1.2.2:\n",
            "      Successfully uninstalled scikit-learn-1.2.2\n",
            "Successfully installed scikit-learn-1.3.0\n"
          ]
        }
      ],
      "source": [
        "%pip install -U scikit-learn"
      ]
    },
    {
      "cell_type": "code",
      "execution_count": 2,
      "metadata": {
        "id": "gAi1ZYS1XqLP"
      },
      "outputs": [],
      "source": [
        "import numpy as np\n",
        "import pandas as pd\n",
        "import sklearn\n",
        "import sqlite3\n",
        "from sklearn import datasets"
      ]
    },
    {
      "cell_type": "code",
      "execution_count": 3,
      "metadata": {
        "id": "16cjipwxXqLP"
      },
      "outputs": [],
      "source": [
        "dataset = datasets.load_breast_cancer(as_frame=True)"
      ]
    },
    {
      "cell_type": "code",
      "execution_count": 4,
      "metadata": {
        "id": "wN57T9AtXqLQ"
      },
      "outputs": [],
      "source": [
        "df = dataset[\"frame\"]"
      ]
    },
    {
      "cell_type": "markdown",
      "metadata": {
        "id": "GwI-udw8XqLQ"
      },
      "source": [
        "## Pandas, Numpy and SQLite"
      ]
    },
    {
      "cell_type": "markdown",
      "metadata": {
        "id": "5rbkKanIXqLQ"
      },
      "source": [
        "1. Use the correct built-in python function to find out what type of variable **\"df\"** is"
      ]
    },
    {
      "cell_type": "code",
      "execution_count": 5,
      "metadata": {
        "id": "_2W5IjxZXqLQ",
        "colab": {
          "base_uri": "https://localhost:8080/"
        },
        "outputId": "bb132f0b-b941-4131-9f0b-9cc90f920321"
      },
      "outputs": [
        {
          "output_type": "stream",
          "name": "stdout",
          "text": [
            "<class 'pandas.core.frame.DataFrame'>\n"
          ]
        }
      ],
      "source": [
        "# put your answer here\n",
        "print(type(df))"
      ]
    },
    {
      "cell_type": "markdown",
      "metadata": {
        "id": "lH1q2MTeXqLR"
      },
      "source": [
        "2. Use the correct Pandas method to **print the entire content of the dataframe**"
      ]
    },
    {
      "cell_type": "code",
      "execution_count": 7,
      "metadata": {
        "id": "0-yKOKEbXqLR",
        "colab": {
          "base_uri": "https://localhost:8080/"
        },
        "outputId": "b5174588-05ec-42ed-bad7-554440a54085"
      },
      "outputs": [
        {
          "output_type": "stream",
          "name": "stdout",
          "text": [
            "     mean radius  mean texture  mean perimeter  mean area  mean smoothness  \\\n",
            "0          17.99         10.38          122.80     1001.0          0.11840   \n",
            "1          20.57         17.77          132.90     1326.0          0.08474   \n",
            "2          19.69         21.25          130.00     1203.0          0.10960   \n",
            "3          11.42         20.38           77.58      386.1          0.14250   \n",
            "4          20.29         14.34          135.10     1297.0          0.10030   \n",
            "..           ...           ...             ...        ...              ...   \n",
            "564        21.56         22.39          142.00     1479.0          0.11100   \n",
            "565        20.13         28.25          131.20     1261.0          0.09780   \n",
            "566        16.60         28.08          108.30      858.1          0.08455   \n",
            "567        20.60         29.33          140.10     1265.0          0.11780   \n",
            "568         7.76         24.54           47.92      181.0          0.05263   \n",
            "\n",
            "     mean compactness  mean concavity  mean concave points  mean symmetry  \\\n",
            "0             0.27760         0.30010              0.14710         0.2419   \n",
            "1             0.07864         0.08690              0.07017         0.1812   \n",
            "2             0.15990         0.19740              0.12790         0.2069   \n",
            "3             0.28390         0.24140              0.10520         0.2597   \n",
            "4             0.13280         0.19800              0.10430         0.1809   \n",
            "..                ...             ...                  ...            ...   \n",
            "564           0.11590         0.24390              0.13890         0.1726   \n",
            "565           0.10340         0.14400              0.09791         0.1752   \n",
            "566           0.10230         0.09251              0.05302         0.1590   \n",
            "567           0.27700         0.35140              0.15200         0.2397   \n",
            "568           0.04362         0.00000              0.00000         0.1587   \n",
            "\n",
            "     mean fractal dimension  ...  worst texture  worst perimeter  worst area  \\\n",
            "0                   0.07871  ...          17.33           184.60      2019.0   \n",
            "1                   0.05667  ...          23.41           158.80      1956.0   \n",
            "2                   0.05999  ...          25.53           152.50      1709.0   \n",
            "3                   0.09744  ...          26.50            98.87       567.7   \n",
            "4                   0.05883  ...          16.67           152.20      1575.0   \n",
            "..                      ...  ...            ...              ...         ...   \n",
            "564                 0.05623  ...          26.40           166.10      2027.0   \n",
            "565                 0.05533  ...          38.25           155.00      1731.0   \n",
            "566                 0.05648  ...          34.12           126.70      1124.0   \n",
            "567                 0.07016  ...          39.42           184.60      1821.0   \n",
            "568                 0.05884  ...          30.37            59.16       268.6   \n",
            "\n",
            "     worst smoothness  worst compactness  worst concavity  \\\n",
            "0             0.16220            0.66560           0.7119   \n",
            "1             0.12380            0.18660           0.2416   \n",
            "2             0.14440            0.42450           0.4504   \n",
            "3             0.20980            0.86630           0.6869   \n",
            "4             0.13740            0.20500           0.4000   \n",
            "..                ...                ...              ...   \n",
            "564           0.14100            0.21130           0.4107   \n",
            "565           0.11660            0.19220           0.3215   \n",
            "566           0.11390            0.30940           0.3403   \n",
            "567           0.16500            0.86810           0.9387   \n",
            "568           0.08996            0.06444           0.0000   \n",
            "\n",
            "     worst concave points  worst symmetry  worst fractal dimension  target  \n",
            "0                  0.2654          0.4601                  0.11890       0  \n",
            "1                  0.1860          0.2750                  0.08902       0  \n",
            "2                  0.2430          0.3613                  0.08758       0  \n",
            "3                  0.2575          0.6638                  0.17300       0  \n",
            "4                  0.1625          0.2364                  0.07678       0  \n",
            "..                    ...             ...                      ...     ...  \n",
            "564                0.2216          0.2060                  0.07115       0  \n",
            "565                0.1628          0.2572                  0.06637       0  \n",
            "566                0.1418          0.2218                  0.07820       0  \n",
            "567                0.2650          0.4087                  0.12400       0  \n",
            "568                0.0000          0.2871                  0.07039       1  \n",
            "\n",
            "[569 rows x 31 columns]\n"
          ]
        }
      ],
      "source": [
        "# put your answer here\n",
        "print (df)"
      ]
    },
    {
      "cell_type": "markdown",
      "metadata": {
        "id": "VxCEDdmdXqLR"
      },
      "source": [
        "3. Use the correct Pandas method to **print the first 10 rows of the dataframe**"
      ]
    },
    {
      "cell_type": "code",
      "execution_count": 9,
      "metadata": {
        "id": "9xl-35wRXqLR",
        "colab": {
          "base_uri": "https://localhost:8080/"
        },
        "outputId": "981b5f29-f498-422d-9607-a0e2c93fe9b2"
      },
      "outputs": [
        {
          "output_type": "stream",
          "name": "stdout",
          "text": [
            "   mean radius  mean texture  mean perimeter  mean area  mean smoothness  \\\n",
            "0        17.99         10.38          122.80     1001.0          0.11840   \n",
            "1        20.57         17.77          132.90     1326.0          0.08474   \n",
            "2        19.69         21.25          130.00     1203.0          0.10960   \n",
            "3        11.42         20.38           77.58      386.1          0.14250   \n",
            "4        20.29         14.34          135.10     1297.0          0.10030   \n",
            "5        12.45         15.70           82.57      477.1          0.12780   \n",
            "6        18.25         19.98          119.60     1040.0          0.09463   \n",
            "7        13.71         20.83           90.20      577.9          0.11890   \n",
            "8        13.00         21.82           87.50      519.8          0.12730   \n",
            "9        12.46         24.04           83.97      475.9          0.11860   \n",
            "\n",
            "   mean compactness  mean concavity  mean concave points  mean symmetry  \\\n",
            "0           0.27760         0.30010              0.14710         0.2419   \n",
            "1           0.07864         0.08690              0.07017         0.1812   \n",
            "2           0.15990         0.19740              0.12790         0.2069   \n",
            "3           0.28390         0.24140              0.10520         0.2597   \n",
            "4           0.13280         0.19800              0.10430         0.1809   \n",
            "5           0.17000         0.15780              0.08089         0.2087   \n",
            "6           0.10900         0.11270              0.07400         0.1794   \n",
            "7           0.16450         0.09366              0.05985         0.2196   \n",
            "8           0.19320         0.18590              0.09353         0.2350   \n",
            "9           0.23960         0.22730              0.08543         0.2030   \n",
            "\n",
            "   mean fractal dimension  ...  worst texture  worst perimeter  worst area  \\\n",
            "0                 0.07871  ...          17.33           184.60      2019.0   \n",
            "1                 0.05667  ...          23.41           158.80      1956.0   \n",
            "2                 0.05999  ...          25.53           152.50      1709.0   \n",
            "3                 0.09744  ...          26.50            98.87       567.7   \n",
            "4                 0.05883  ...          16.67           152.20      1575.0   \n",
            "5                 0.07613  ...          23.75           103.40       741.6   \n",
            "6                 0.05742  ...          27.66           153.20      1606.0   \n",
            "7                 0.07451  ...          28.14           110.60       897.0   \n",
            "8                 0.07389  ...          30.73           106.20       739.3   \n",
            "9                 0.08243  ...          40.68            97.65       711.4   \n",
            "\n",
            "   worst smoothness  worst compactness  worst concavity  worst concave points  \\\n",
            "0            0.1622             0.6656           0.7119                0.2654   \n",
            "1            0.1238             0.1866           0.2416                0.1860   \n",
            "2            0.1444             0.4245           0.4504                0.2430   \n",
            "3            0.2098             0.8663           0.6869                0.2575   \n",
            "4            0.1374             0.2050           0.4000                0.1625   \n",
            "5            0.1791             0.5249           0.5355                0.1741   \n",
            "6            0.1442             0.2576           0.3784                0.1932   \n",
            "7            0.1654             0.3682           0.2678                0.1556   \n",
            "8            0.1703             0.5401           0.5390                0.2060   \n",
            "9            0.1853             1.0580           1.1050                0.2210   \n",
            "\n",
            "   worst symmetry  worst fractal dimension  target  \n",
            "0          0.4601                  0.11890       0  \n",
            "1          0.2750                  0.08902       0  \n",
            "2          0.3613                  0.08758       0  \n",
            "3          0.6638                  0.17300       0  \n",
            "4          0.2364                  0.07678       0  \n",
            "5          0.3985                  0.12440       0  \n",
            "6          0.3063                  0.08368       0  \n",
            "7          0.3196                  0.11510       0  \n",
            "8          0.4378                  0.10720       0  \n",
            "9          0.4366                  0.20750       0  \n",
            "\n",
            "[10 rows x 31 columns]\n"
          ]
        }
      ],
      "source": [
        "# put your answer here\n",
        "print (df.head(10))"
      ]
    },
    {
      "cell_type": "markdown",
      "metadata": {
        "id": "H7EXxeGlXqLS"
      },
      "source": [
        "4. Use the correct Pandas method to **print the last 10 rows of the dataframe**"
      ]
    },
    {
      "cell_type": "code",
      "execution_count": 10,
      "metadata": {
        "id": "PKL1YFAYXqLS",
        "colab": {
          "base_uri": "https://localhost:8080/"
        },
        "outputId": "e322889f-bab8-4dae-b46f-794f16e728d9"
      },
      "outputs": [
        {
          "output_type": "stream",
          "name": "stdout",
          "text": [
            "     mean radius  mean texture  mean perimeter  mean area  mean smoothness  \\\n",
            "559        11.51         23.93           74.52      403.5          0.09261   \n",
            "560        14.05         27.15           91.38      600.4          0.09929   \n",
            "561        11.20         29.37           70.67      386.0          0.07449   \n",
            "562        15.22         30.62          103.40      716.9          0.10480   \n",
            "563        20.92         25.09          143.00     1347.0          0.10990   \n",
            "564        21.56         22.39          142.00     1479.0          0.11100   \n",
            "565        20.13         28.25          131.20     1261.0          0.09780   \n",
            "566        16.60         28.08          108.30      858.1          0.08455   \n",
            "567        20.60         29.33          140.10     1265.0          0.11780   \n",
            "568         7.76         24.54           47.92      181.0          0.05263   \n",
            "\n",
            "     mean compactness  mean concavity  mean concave points  mean symmetry  \\\n",
            "559           0.10210         0.11120              0.04105         0.1388   \n",
            "560           0.11260         0.04462              0.04304         0.1537   \n",
            "561           0.03558         0.00000              0.00000         0.1060   \n",
            "562           0.20870         0.25500              0.09429         0.2128   \n",
            "563           0.22360         0.31740              0.14740         0.2149   \n",
            "564           0.11590         0.24390              0.13890         0.1726   \n",
            "565           0.10340         0.14400              0.09791         0.1752   \n",
            "566           0.10230         0.09251              0.05302         0.1590   \n",
            "567           0.27700         0.35140              0.15200         0.2397   \n",
            "568           0.04362         0.00000              0.00000         0.1587   \n",
            "\n",
            "     mean fractal dimension  ...  worst texture  worst perimeter  worst area  \\\n",
            "559                 0.06570  ...          37.16            82.28       474.2   \n",
            "560                 0.06171  ...          33.17           100.20       706.7   \n",
            "561                 0.05502  ...          38.30            75.19       439.6   \n",
            "562                 0.07152  ...          42.79           128.70       915.0   \n",
            "563                 0.06879  ...          29.41           179.10      1819.0   \n",
            "564                 0.05623  ...          26.40           166.10      2027.0   \n",
            "565                 0.05533  ...          38.25           155.00      1731.0   \n",
            "566                 0.05648  ...          34.12           126.70      1124.0   \n",
            "567                 0.07016  ...          39.42           184.60      1821.0   \n",
            "568                 0.05884  ...          30.37            59.16       268.6   \n",
            "\n",
            "     worst smoothness  worst compactness  worst concavity  \\\n",
            "559           0.12980            0.25170           0.3630   \n",
            "560           0.12410            0.22640           0.1326   \n",
            "561           0.09267            0.05494           0.0000   \n",
            "562           0.14170            0.79170           1.1700   \n",
            "563           0.14070            0.41860           0.6599   \n",
            "564           0.14100            0.21130           0.4107   \n",
            "565           0.11660            0.19220           0.3215   \n",
            "566           0.11390            0.30940           0.3403   \n",
            "567           0.16500            0.86810           0.9387   \n",
            "568           0.08996            0.06444           0.0000   \n",
            "\n",
            "     worst concave points  worst symmetry  worst fractal dimension  target  \n",
            "559               0.09653          0.2112                  0.08732       1  \n",
            "560               0.10480          0.2250                  0.08321       1  \n",
            "561               0.00000          0.1566                  0.05905       1  \n",
            "562               0.23560          0.4089                  0.14090       0  \n",
            "563               0.25420          0.2929                  0.09873       0  \n",
            "564               0.22160          0.2060                  0.07115       0  \n",
            "565               0.16280          0.2572                  0.06637       0  \n",
            "566               0.14180          0.2218                  0.07820       0  \n",
            "567               0.26500          0.4087                  0.12400       0  \n",
            "568               0.00000          0.2871                  0.07039       1  \n",
            "\n",
            "[10 rows x 31 columns]\n"
          ]
        }
      ],
      "source": [
        "# put your answer here\n",
        "print (df.tail(10))"
      ]
    },
    {
      "cell_type": "markdown",
      "metadata": {
        "id": "YyDW1X5gXqLS"
      },
      "source": [
        "5. Use the correct Pandas method to display the **general information** about the dataframe"
      ]
    },
    {
      "cell_type": "code",
      "execution_count": 11,
      "metadata": {
        "id": "EHL3LPD4XqLS",
        "colab": {
          "base_uri": "https://localhost:8080/"
        },
        "outputId": "36b2baa6-c9a5-40ef-b3d3-2749bd81cb54"
      },
      "outputs": [
        {
          "output_type": "stream",
          "name": "stdout",
          "text": [
            "<class 'pandas.core.frame.DataFrame'>\n",
            "RangeIndex: 569 entries, 0 to 568\n",
            "Data columns (total 31 columns):\n",
            " #   Column                   Non-Null Count  Dtype  \n",
            "---  ------                   --------------  -----  \n",
            " 0   mean radius              569 non-null    float64\n",
            " 1   mean texture             569 non-null    float64\n",
            " 2   mean perimeter           569 non-null    float64\n",
            " 3   mean area                569 non-null    float64\n",
            " 4   mean smoothness          569 non-null    float64\n",
            " 5   mean compactness         569 non-null    float64\n",
            " 6   mean concavity           569 non-null    float64\n",
            " 7   mean concave points      569 non-null    float64\n",
            " 8   mean symmetry            569 non-null    float64\n",
            " 9   mean fractal dimension   569 non-null    float64\n",
            " 10  radius error             569 non-null    float64\n",
            " 11  texture error            569 non-null    float64\n",
            " 12  perimeter error          569 non-null    float64\n",
            " 13  area error               569 non-null    float64\n",
            " 14  smoothness error         569 non-null    float64\n",
            " 15  compactness error        569 non-null    float64\n",
            " 16  concavity error          569 non-null    float64\n",
            " 17  concave points error     569 non-null    float64\n",
            " 18  symmetry error           569 non-null    float64\n",
            " 19  fractal dimension error  569 non-null    float64\n",
            " 20  worst radius             569 non-null    float64\n",
            " 21  worst texture            569 non-null    float64\n",
            " 22  worst perimeter          569 non-null    float64\n",
            " 23  worst area               569 non-null    float64\n",
            " 24  worst smoothness         569 non-null    float64\n",
            " 25  worst compactness        569 non-null    float64\n",
            " 26  worst concavity          569 non-null    float64\n",
            " 27  worst concave points     569 non-null    float64\n",
            " 28  worst symmetry           569 non-null    float64\n",
            " 29  worst fractal dimension  569 non-null    float64\n",
            " 30  target                   569 non-null    int64  \n",
            "dtypes: float64(30), int64(1)\n",
            "memory usage: 137.9 KB\n"
          ]
        }
      ],
      "source": [
        "# put your answer here\n",
        "df.info()"
      ]
    },
    {
      "cell_type": "markdown",
      "metadata": {
        "id": "vv6D9bWMXqLS"
      },
      "source": [
        "6. Use the **value_counts()** Pandas method to check how many rows are there for each class label"
      ]
    },
    {
      "cell_type": "code",
      "execution_count": 14,
      "metadata": {
        "id": "tBchrdk8XqLS",
        "colab": {
          "base_uri": "https://localhost:8080/"
        },
        "outputId": "14f31d05-063a-49e8-8e5a-6c5188714625"
      },
      "outputs": [
        {
          "output_type": "stream",
          "name": "stdout",
          "text": [
            "569\n"
          ]
        }
      ],
      "source": [
        "# put your answer here\n",
        "row_count = len(df)\n",
        "print (row_count)"
      ]
    },
    {
      "cell_type": "markdown",
      "metadata": {
        "id": "gLL-Vl0gXqLS"
      },
      "source": [
        "7. Create a two new dataframes:\n",
        "\n",
        "- Name the first dataframe **\"malignant\"** that will contain all rows with a target value of **0**\n",
        "- Name the second dataframe **\"benign\"** that will contain all rows with a target value of **1**"
      ]
    },
    {
      "cell_type": "code",
      "execution_count": 16,
      "metadata": {
        "id": "KIdte3N6XqLS"
      },
      "outputs": [],
      "source": [
        "# put your answer here\n",
        "malignant = df[df['target'] == 0]\n",
        "benign = df[df['target'] == 1]"
      ]
    },
    {
      "cell_type": "markdown",
      "metadata": {
        "id": "LJtLLl9MXqLS"
      },
      "source": [
        "8. Use the correct Pandas method to return the **row at index 100**  of the dataframe"
      ]
    },
    {
      "cell_type": "code",
      "execution_count": 17,
      "metadata": {
        "id": "QMcxAQpXXqLT"
      },
      "outputs": [],
      "source": [
        "# put your answer here\n",
        "row_100 = df.iloc[100]"
      ]
    },
    {
      "cell_type": "markdown",
      "metadata": {
        "id": "85OAlgmiXqLT"
      },
      "source": [
        "8. Use the correct Pandas method to return the **row at index 100 and 101**  of the dataframe"
      ]
    },
    {
      "cell_type": "code",
      "execution_count": 18,
      "metadata": {
        "id": "SOy80IR9XqLT"
      },
      "outputs": [],
      "source": [
        "# put your answer here\n",
        "rows_100_101 = df.iloc[[100, 101]]"
      ]
    },
    {
      "cell_type": "markdown",
      "metadata": {
        "id": "1nCOiRdWXqLT"
      },
      "source": [
        "9. Convert the row at index 100 to a **numpy array**\n",
        "\n",
        "- Name the array **row_100**"
      ]
    },
    {
      "cell_type": "code",
      "execution_count": 19,
      "metadata": {
        "id": "-ktg2UnnXqLT"
      },
      "outputs": [],
      "source": [
        "# put your answer here\n",
        "row_100 = df.iloc[100].to_numpy()"
      ]
    },
    {
      "cell_type": "markdown",
      "metadata": {
        "id": "1Eyqp9DMXqLT"
      },
      "source": [
        "10. Use the **.connect()** method to create a new database named **test.db**"
      ]
    },
    {
      "cell_type": "code",
      "execution_count": 25,
      "metadata": {
        "id": "lrOIGCdAXqLT"
      },
      "outputs": [],
      "source": [
        "# put your answer here\n",
        "connection = sqlite3.connect('test.db')"
      ]
    },
    {
      "cell_type": "markdown",
      "metadata": {
        "id": "A790tye2XqLT"
      },
      "source": [
        "11. Use the **.to_sql()** method to create a **breast_cancer_table** in the **test.db** database"
      ]
    },
    {
      "cell_type": "code",
      "execution_count": 26,
      "metadata": {
        "id": "cC1uZY5EXqLT",
        "colab": {
          "base_uri": "https://localhost:8080/"
        },
        "outputId": "a905933f-593f-4051-e0ce-ef97de59eae6"
      },
      "outputs": [
        {
          "output_type": "execute_result",
          "data": {
            "text/plain": [
              "569"
            ]
          },
          "metadata": {},
          "execution_count": 26
        }
      ],
      "source": [
        "# put your answer here\n",
        "df.to_sql('breast_cancer_table', connection, index=False, if_exists='replace')\n"
      ]
    },
    {
      "cell_type": "markdown",
      "metadata": {
        "id": "E3c1-IGcXqLT"
      },
      "source": [
        "12. Using the Pandas **read_sql_query()** method,\n",
        "\n",
        "- Select all records with a target value of 0.\n",
        "\n",
        "- Put the results in a new dataframe called **extracted_from_database** and its contents"
      ]
    },
    {
      "cell_type": "code",
      "execution_count": 29,
      "metadata": {
        "id": "KJ4s7EGxXqLU",
        "colab": {
          "base_uri": "https://localhost:8080/"
        },
        "outputId": "d87f69b4-1519-48b8-e2aa-d9770f956404"
      },
      "outputs": [
        {
          "output_type": "stream",
          "name": "stdout",
          "text": [
            "     mean radius  mean texture  mean perimeter  mean area  mean smoothness  \\\n",
            "0          17.99         10.38          122.80     1001.0          0.11840   \n",
            "1          20.57         17.77          132.90     1326.0          0.08474   \n",
            "2          19.69         21.25          130.00     1203.0          0.10960   \n",
            "3          11.42         20.38           77.58      386.1          0.14250   \n",
            "4          20.29         14.34          135.10     1297.0          0.10030   \n",
            "..           ...           ...             ...        ...              ...   \n",
            "207        20.92         25.09          143.00     1347.0          0.10990   \n",
            "208        21.56         22.39          142.00     1479.0          0.11100   \n",
            "209        20.13         28.25          131.20     1261.0          0.09780   \n",
            "210        16.60         28.08          108.30      858.1          0.08455   \n",
            "211        20.60         29.33          140.10     1265.0          0.11780   \n",
            "\n",
            "     mean compactness  mean concavity  mean concave points  mean symmetry  \\\n",
            "0             0.27760         0.30010              0.14710         0.2419   \n",
            "1             0.07864         0.08690              0.07017         0.1812   \n",
            "2             0.15990         0.19740              0.12790         0.2069   \n",
            "3             0.28390         0.24140              0.10520         0.2597   \n",
            "4             0.13280         0.19800              0.10430         0.1809   \n",
            "..                ...             ...                  ...            ...   \n",
            "207           0.22360         0.31740              0.14740         0.2149   \n",
            "208           0.11590         0.24390              0.13890         0.1726   \n",
            "209           0.10340         0.14400              0.09791         0.1752   \n",
            "210           0.10230         0.09251              0.05302         0.1590   \n",
            "211           0.27700         0.35140              0.15200         0.2397   \n",
            "\n",
            "     mean fractal dimension  ...  worst texture  worst perimeter  worst area  \\\n",
            "0                   0.07871  ...          17.33           184.60      2019.0   \n",
            "1                   0.05667  ...          23.41           158.80      1956.0   \n",
            "2                   0.05999  ...          25.53           152.50      1709.0   \n",
            "3                   0.09744  ...          26.50            98.87       567.7   \n",
            "4                   0.05883  ...          16.67           152.20      1575.0   \n",
            "..                      ...  ...            ...              ...         ...   \n",
            "207                 0.06879  ...          29.41           179.10      1819.0   \n",
            "208                 0.05623  ...          26.40           166.10      2027.0   \n",
            "209                 0.05533  ...          38.25           155.00      1731.0   \n",
            "210                 0.05648  ...          34.12           126.70      1124.0   \n",
            "211                 0.07016  ...          39.42           184.60      1821.0   \n",
            "\n",
            "     worst smoothness  worst compactness  worst concavity  \\\n",
            "0              0.1622             0.6656           0.7119   \n",
            "1              0.1238             0.1866           0.2416   \n",
            "2              0.1444             0.4245           0.4504   \n",
            "3              0.2098             0.8663           0.6869   \n",
            "4              0.1374             0.2050           0.4000   \n",
            "..                ...                ...              ...   \n",
            "207            0.1407             0.4186           0.6599   \n",
            "208            0.1410             0.2113           0.4107   \n",
            "209            0.1166             0.1922           0.3215   \n",
            "210            0.1139             0.3094           0.3403   \n",
            "211            0.1650             0.8681           0.9387   \n",
            "\n",
            "     worst concave points  worst symmetry  worst fractal dimension  target  \n",
            "0                  0.2654          0.4601                  0.11890       0  \n",
            "1                  0.1860          0.2750                  0.08902       0  \n",
            "2                  0.2430          0.3613                  0.08758       0  \n",
            "3                  0.2575          0.6638                  0.17300       0  \n",
            "4                  0.1625          0.2364                  0.07678       0  \n",
            "..                    ...             ...                      ...     ...  \n",
            "207                0.2542          0.2929                  0.09873       0  \n",
            "208                0.2216          0.2060                  0.07115       0  \n",
            "209                0.1628          0.2572                  0.06637       0  \n",
            "210                0.1418          0.2218                  0.07820       0  \n",
            "211                0.2650          0.4087                  0.12400       0  \n",
            "\n",
            "[212 rows x 31 columns]\n"
          ]
        }
      ],
      "source": [
        "# put your answer here\n",
        "sql_query = \"SELECT * FROM breast_cancer_table WHERE target = 0\"\n",
        "extracted_from_database = pd.read_sql_query(sql_query, connection)\n",
        "print(extracted_from_database)\n"
      ]
    }
  ],
  "metadata": {
    "kernelspec": {
      "display_name": "Python 3",
      "name": "python3"
    },
    "language_info": {
      "codemirror_mode": {
        "name": "ipython",
        "version": 3
      },
      "file_extension": ".py",
      "mimetype": "text/x-python",
      "name": "python",
      "nbconvert_exporter": "python",
      "pygments_lexer": "ipython3",
      "version": "3.9.13"
    },
    "orig_nbformat": 4,
    "colab": {
      "provenance": [],
      "gpuType": "T4"
    },
    "accelerator": "GPU"
  },
  "nbformat": 4,
  "nbformat_minor": 0
}