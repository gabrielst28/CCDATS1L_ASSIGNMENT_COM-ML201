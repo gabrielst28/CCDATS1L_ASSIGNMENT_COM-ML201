{
  "cells": [
    {
      "attachments": {},
      "cell_type": "markdown",
      "metadata": {
        "colab_type": "text",
        "id": "view-in-github"
      },
      "source": [
        "<a href=\"https://colab.research.google.com/github/robitussin/CCDATS1L_EXERCISES/blob/main/exercise_1.ipynb\" target=\"_parent\"><img src=\"https://colab.research.google.com/assets/colab-badge.svg\" alt=\"Open In Colab\"/></a>"
      ]
    },
    {
      "attachments": {},
      "cell_type": "markdown",
      "metadata": {
        "id": "KdbulXu6s8v0"
      },
      "source": [
        "# Exercise 1\n",
        "\n",
        "Please follow the instructions for each number"
      ]
    },
    {
      "attachments": {},
      "cell_type": "markdown",
      "metadata": {
        "id": "DKVjMPyB2TaJ"
      },
      "source": [
        "## Lists"
      ]
    },
    {
      "attachments": {},
      "cell_type": "markdown",
      "metadata": {
        "id": "2kSgRWVFtAot"
      },
      "source": [
        "1. Create a list of lists. Use the three lists below\n",
        "\n",
        "  list1 = [orange, banana]\n",
        "\n",
        "  list2 = [1, 2]\n",
        "\n",
        "  list3 = [True, False]\n",
        "\n",
        "  -----------------------------\n",
        "\n",
        "  **Expected output:**\n",
        "\n",
        "  [[\"orange\", \"banana\"], [1, 2], [True, False]]"
      ]
    },
    {
      "cell_type": "code",
      "execution_count": 3,
      "metadata": {
        "id": "dlHNQj0Zs7gT"
      },
      "outputs": [
        {
          "name": "stdout",
          "output_type": "stream",
          "text": [
            "[['orange', 'banana'], [1, 2], [True, False]]\n"
          ]
        }
      ],
      "source": [
        "# Put your answer here\n",
        "\n",
        "list1 = [\"orange\", \"banana\"]\n",
        "list2 = [1,2]\n",
        "list3 = [True, False]\n",
        "\n",
        "all_lists = [list1, list2, list3]\n",
        "\n",
        "print (all_lists)\n"
      ]
    },
    {
      "attachments": {},
      "cell_type": "markdown",
      "metadata": {
        "id": "ClYtcLoK3RrX"
      },
      "source": [
        "2. Remove all strings in the list\n",
        "\n",
        "  mylist = [\"A\", 1, \"B\", 10, \"C\", 100, \"D\"]\n",
        "\n",
        "  ----------------------------\n",
        "\n",
        "  **Expected output**:\n",
        "   \n",
        "  [1, 10, 100]"
      ]
    },
    {
      "cell_type": "code",
      "execution_count": 6,
      "metadata": {
        "id": "dKgTNDlz4G7l"
      },
      "outputs": [
        {
          "name": "stdout",
          "output_type": "stream",
          "text": [
            "[1, 10, 100]\n"
          ]
        }
      ],
      "source": [
        "# Put your answer here\n",
        "\n",
        "mylist = [\"A\", 1, \"B\", 10, \"C\", 100, \"D\"]\n",
        "\n",
        "for item in (mylist):\n",
        "    if isinstance(item, str):\n",
        "        mylist.remove(item)\n",
        "\n",
        "print(mylist)"
      ]
    },
    {
      "attachments": {},
      "cell_type": "markdown",
      "metadata": {
        "id": "g0UBXXSG4un9"
      },
      "source": [
        "3. Create a list that will contain the combination of each element in list1 and list2\n",
        "\n",
        "  list1 = [\"DA\", \"SCI\"]\n",
        "\n",
        "  list2 = [\"TA\", \"ENCE\"]\n",
        "\n",
        "  ----------------------------\n",
        "\n",
        "  **Expected output:**\n",
        "\n",
        "  ['DATA', 'SCIENCE']"
      ]
    },
    {
      "cell_type": "code",
      "execution_count": 6,
      "metadata": {
        "id": "HBZ6liCD8LTS"
      },
      "outputs": [
        {
          "name": "stdout",
          "output_type": "stream",
          "text": [
            "['DATA', 'SCIENCE']\n"
          ]
        }
      ],
      "source": [
        "# Put your answer here\\\n",
        "list1 = [\"DA\", \"SCI\"]\n",
        "list2 = [\"TA\", \"ENCE\"]\n",
        "\n",
        "# Use a list comprehension to combine elements from list1 and list2\n",
        "combined_list = [a + b for a, b in zip(list1, list2)]\n",
        "\n",
        "print(combined_list)"
      ]
    },
    {
      "attachments": {},
      "cell_type": "markdown",
      "metadata": {
        "id": "03G2IFty6WCn"
      },
      "source": [
        "4. Remove empty strings in the list\n",
        "\n",
        "  list1 = [\"I\", \"\", \"LOVE\", \"DATA\", \"\", \"SCIENCE\"]\n",
        "\n",
        "  -----------------------\n",
        "\n",
        "  **Expected output:**\n",
        "\n",
        "  [\"I\", \"LOVE\", \"DATA\", \"SCIENCE\"]"
      ]
    },
    {
      "cell_type": "code",
      "execution_count": 13,
      "metadata": {
        "id": "8N2rGftt7Ljr"
      },
      "outputs": [
        {
          "name": "stdout",
          "output_type": "stream",
          "text": [
            "['I', 'LOVE', 'DATA', 'SCIENCE']\n"
          ]
        }
      ],
      "source": [
        "# Put your answer here\n",
        "\n",
        "list1 = [\"I\", \"\", \"LOVE\", \"DATA\", \"\", \"SCIENCE\"]\n",
        "\n",
        "new_list = list(filter(None, list1))\n",
        "\n",
        "print(new_list)"
      ]
    },
    {
      "attachments": {},
      "cell_type": "markdown",
      "metadata": {
        "id": "wuqBS0Vg7JPw"
      },
      "source": [
        "5. Using list comprehension, create a new list that will only contain the prime numbers in the given list\n",
        "\n",
        "  list1 = [1, 2, 3, 4, 5, 6, 7, 8, 9, 10]\n",
        "\n",
        "  -----------------------------\n",
        "\n",
        "  **Expected output:**\n",
        "  \n",
        "  [2, 3, 5, 7]"
      ]
    },
    {
      "cell_type": "code",
      "execution_count": 23,
      "metadata": {
        "id": "XoykVs457JkE"
      },
      "outputs": [
        {
          "name": "stdout",
          "output_type": "stream",
          "text": [
            "[2, 3, 5, 7]\n"
          ]
        }
      ],
      "source": [
        "# Put your answer here\n",
        "\n",
        "list1 = [1, 2, 3, 4, 5, 6, 7, 8, 9, 10]\n",
        "\n",
        "\n",
        "def is_prime(num):\n",
        "    if num <= 1:\n",
        "        return False\n",
        "    elif num == 2:\n",
        "        return True\n",
        "    elif num % 2 == 0:\n",
        "        return False\n",
        "    else:\n",
        "        for i in range(3, int(num**0.5) + 1, 2):\n",
        "            if num % i == 0:\n",
        "                return False\n",
        "        return True\n",
        "\n",
        "\n",
        "prime_numbers = [num for num in list1 if is_prime(num)]\n",
        "\n",
        "print(prime_numbers)"
      ]
    },
    {
      "attachments": {},
      "cell_type": "markdown",
      "metadata": {
        "id": "-lR1qX1a9g0S"
      },
      "source": []
    },
    {
      "attachments": {},
      "cell_type": "markdown",
      "metadata": {
        "id": "wy1NZOp49iC7"
      },
      "source": [
        "## Tuples"
      ]
    },
    {
      "attachments": {},
      "cell_type": "markdown",
      "metadata": {
        "id": "ldovi4eh9jdF"
      },
      "source": [
        "1. Print the value \"National University\" in the nested tuple.\n",
        "\n",
        "  mytuple = (\"Manila\", [19, 00, \"National University\"], (25, 8, 2023))\n",
        "\n",
        "  --------------------------------\n",
        "\n",
        "  **Expected output:**\n",
        "\n",
        "  National University\n"
      ]
    },
    {
      "cell_type": "code",
      "execution_count": 30,
      "metadata": {
        "colab": {
          "base_uri": "https://localhost:8080/",
          "height": 36
        },
        "id": "6BM4qMEV98l1",
        "outputId": "caec0be9-3d97-4742-8e31-a1c42dad58db"
      },
      "outputs": [
        {
          "name": "stdout",
          "output_type": "stream",
          "text": [
            "National University\n"
          ]
        }
      ],
      "source": [
        "# Put your answer here\n",
        "mytuple = (\"Manila\", [19, 00, \"National University\"], (25, 8, 2023))\n",
        "\n",
        "school = mytuple[1][2]\n",
        "\n",
        "print (school)"
      ]
    },
    {
      "attachments": {},
      "cell_type": "markdown",
      "metadata": {
        "id": "WumP_Ic4-22c"
      },
      "source": [
        "2. Given this tuple\n",
        "\n",
        "  mytuple = (1, 2, 3, 4, 5)\n",
        "\n",
        "  Unpack the following tuple into five variables and display the value of each variable.\n",
        "\n",
        "  --------------------------------\n",
        "\n",
        "  **Expected output:**\n",
        "\n",
        "  print(a) # should print 1\n",
        "\n",
        "  print(b) # should print 2\n",
        "\n",
        "  print(c) # should print 3\n",
        "\n",
        "  print(d) # should print 4\n",
        "\n",
        "  print(d) # should print 5"
      ]
    },
    {
      "cell_type": "code",
      "execution_count": 32,
      "metadata": {
        "id": "aTUeI4uw_X9H"
      },
      "outputs": [
        {
          "name": "stdout",
          "output_type": "stream",
          "text": [
            "print(a) # should print  1\n",
            "print(b) # should print  2\n",
            "print(c) # should print  3\n",
            "print(d) # should print  4\n",
            "print(e) # should print  5\n"
          ]
        }
      ],
      "source": [
        "# Put your answer here\n",
        "\n",
        "mytuple = (1, 2, 3, 4, 5)\n",
        "\n",
        "a = mytuple[0]\n",
        "b = mytuple[1]\n",
        "c = mytuple[2]\n",
        "d = mytuple[3]\n",
        "e = mytuple[4]\n",
        "\n",
        "print (\"print(a) # should print \", a)\n",
        "print (\"print(b) # should print \", b)\n",
        "print (\"print(c) # should print \", c)\n",
        "print (\"print(d) # should print \", d)\n",
        "print (\"print(e) # should print \", e)"
      ]
    },
    {
      "attachments": {},
      "cell_type": "markdown",
      "metadata": {
        "id": "yXX3t_Xt_mQu"
      },
      "source": [
        "3. Given this tuple\n",
        "\n",
        "  mytuple = (1, 2, 3, 4, 5, 6, 7, 8, 9, 10)\n",
        "\n",
        "  Use range indexing/slicing to create a new tuple that will only contain the numbers 6 to 10\n",
        "\n",
        "  --------------------------------\n",
        "\n",
        "  **Expected output:**\n",
        "\n",
        "  print(newtuple)\n",
        "\n",
        "  (6, 7, 8, 9, 10)"
      ]
    },
    {
      "cell_type": "code",
      "execution_count": 33,
      "metadata": {
        "id": "_o6TDiOZ_mkB"
      },
      "outputs": [
        {
          "name": "stdout",
          "output_type": "stream",
          "text": [
            "(6, 7, 8, 9, 10)\n"
          ]
        }
      ],
      "source": [
        "# Put your answer here\n",
        "\n",
        "mytuple = (1, 2, 3, 4, 5, 6, 7, 8, 9, 10)\n",
        "\n",
        "new_tuple = mytuple[5:10]\n",
        "\n",
        "print(new_tuple)"
      ]
    },
    {
      "attachments": {},
      "cell_type": "markdown",
      "metadata": {
        "id": "D-VxNmfJAgi2"
      },
      "source": [
        "4. Given this tuple\n",
        "\n",
        "  mytuple = (\"NU\", \"NU\", 55, \"i love data science!\", False, \"NU\", 23)\n",
        "\n",
        "  Count the number of occurrences of the word \"NU\"\n",
        "\n",
        "  --------------------------------\n",
        "\n",
        "  **Expected output:**\n",
        "\n",
        "  3"
      ]
    },
    {
      "cell_type": "code",
      "execution_count": 34,
      "metadata": {
        "id": "7z66oeBSAg2d"
      },
      "outputs": [
        {
          "name": "stdout",
          "output_type": "stream",
          "text": [
            "3\n"
          ]
        }
      ],
      "source": [
        "# Put your answer here\n",
        "\n",
        "mytuple = (\"NU\", \"NU\", 55, \"i love data science!\", False, \"NU\", 23)\n",
        "\n",
        "count_word = mytuple.count(\"NU\")\n",
        "\n",
        "print (count_word)"
      ]
    },
    {
      "attachments": {},
      "cell_type": "markdown",
      "metadata": {
        "id": "X59cGUyuA6no"
      },
      "source": [
        "5. Given this tuple of tuples\n",
        "\n",
        "  mytuple = (('A', 2),('B', 1),('C', 4), ('D', 3))\n",
        "\n",
        "  Sort mytuple by the second item of each inner tuple\n",
        "\n",
        "  --------------------------------\n",
        "\n",
        "  **Expected output:**\n",
        "\n",
        " (('B', 1),('A', 2),('D', 3), ('C', 4))\n",
        "\n"
      ]
    },
    {
      "cell_type": "code",
      "execution_count": 35,
      "metadata": {
        "id": "QdLPtKRhA67A"
      },
      "outputs": [
        {
          "name": "stdout",
          "output_type": "stream",
          "text": [
            "[('B', 1), ('A', 2), ('D', 3), ('C', 4)]\n"
          ]
        }
      ],
      "source": [
        "# Put your answer here\n",
        "\n",
        "mytuple = (('A', 2),('B', 1),('C', 4), ('D', 3))\n",
        "\n",
        "sorted_tuple = sorted(mytuple, key=lambda x: x[1])\n",
        "\n",
        "print(sorted_tuple)\n"
      ]
    },
    {
      "attachments": {},
      "cell_type": "markdown",
      "metadata": {
        "id": "xlFYHSIYCTT3"
      },
      "source": [
        "# Set"
      ]
    },
    {
      "attachments": {},
      "cell_type": "markdown",
      "metadata": {
        "id": "31-KYrN_CXF-"
      },
      "source": [
        "1. Given this set and list\n",
        "\n",
        "  myset = {\"A\", \"B\", \"C\"}\n",
        "\n",
        "  mylist = [\"D\", \"E\", \"F\"]\n",
        "\n",
        "  Insert all items in the list into the set\n",
        "\n",
        "  --------------------------------\n",
        "\n",
        "  **Expected output:**\n",
        "\n",
        "  {\"A\", \"B\", \"C\", \"D\", \"E\" , \"F\"}\n",
        "\n",
        "  Note: The order does not matter"
      ]
    },
    {
      "cell_type": "code",
      "execution_count": 46,
      "metadata": {
        "id": "LebVfecMCVrm"
      },
      "outputs": [
        {
          "name": "stdout",
          "output_type": "stream",
          "text": [
            "{'C', 'D', 'B', 'A', 'F', 'E'}\n"
          ]
        }
      ],
      "source": [
        "# Put your answer here\n",
        "\n",
        "myset = {\"A\", \"B\", \"C\"}\n",
        "mylist = [\"D\", \"E\", \"F\"]\n",
        "\n",
        "# Use a for loop to insert items from the list into the set\n",
        "for item in mylist:\n",
        "    myset.add(item)\n",
        "\n",
        "print(myset)"
      ]
    },
    {
      "attachments": {},
      "cell_type": "markdown",
      "metadata": {
        "id": "mC-vQoLXDCEk"
      },
      "source": [
        "2. Use a function to create a new set that will only contain unique items from both sets.\n",
        "\n",
        "  set1 = {\"A\", \"B\", \"C\"}\n",
        "\n",
        "  set2 = {\"C\", \"B\", \"D\"}\n",
        "\n",
        "  --------------------------------\n",
        "\n",
        "  **Expected output:**\n",
        "\n",
        "  {\"A\", \"B\", \"C\", \"D\"}\n",
        "\n",
        "  Note: The order does not matter"
      ]
    },
    {
      "cell_type": "code",
      "execution_count": 48,
      "metadata": {
        "id": "nxMD_diQDCSJ"
      },
      "outputs": [
        {
          "name": "stdout",
          "output_type": "stream",
          "text": [
            "{'C', 'D', 'B', 'A'}\n"
          ]
        }
      ],
      "source": [
        "# Put your answer here\n",
        "\n",
        "def combine_sets(set1, set2):\n",
        "    \n",
        "    combined_set = set1 | set2\n",
        "    return combined_set\n",
        "\n",
        "set1 = {\"A\", \"B\", \"C\"}\n",
        "set2 = {\"C\", \"B\", \"D\"}\n",
        "\n",
        "result_set = combine_sets(set1, set2)\n",
        "\n",
        "print(result_set)"
      ]
    },
    {
      "attachments": {},
      "cell_type": "markdown",
      "metadata": {
        "id": "vo1unYAjD7PC"
      },
      "source": [
        "3. Given two sets, use a function to update **set1** with items that only appears in **set1** but not in **set2**.\n",
        "\n",
        "  set1 = {1, 2, 3, 4, 5}\n",
        "\n",
        "  set2 = {2, 3, 4}\n",
        "\n",
        "  --------------------------------\n",
        "\n",
        "  **Expected output:**\n",
        "\n",
        "  {1, 5}\n",
        "\n",
        "  Note: The order does not matter"
      ]
    },
    {
      "cell_type": "code",
      "execution_count": 57,
      "metadata": {
        "id": "V5JILO_oD7io"
      },
      "outputs": [
        {
          "name": "stdout",
          "output_type": "stream",
          "text": [
            "{1, 5}\n"
          ]
        }
      ],
      "source": [
        "# Put your answer here\n",
        "\n",
        "def difference(set1, set2):\n",
        "    set1.difference_update(set2)\n",
        "\n",
        "set1 = {1, 2, 3, 4, 5}\n",
        "set2 = {2, 3, 4}\n",
        "\n",
        "\n",
        "difference(set1, set2)\n",
        "\n",
        "print(set1)"
      ]
    },
    {
      "attachments": {},
      "cell_type": "markdown",
      "metadata": {
        "id": "UD24DfUYEyqK"
      },
      "source": [
        "4. Given the two sets\n",
        "\n",
        "  set1 = {1, 2, 3, 4, 5}\n",
        "\n",
        "  set2 = {6 ,7, 8, 2, 5}\n",
        "\n",
        "  Use a function to create a new set that will only contain common items from set1 and set2\n",
        "\n",
        "  --------------------------------\n",
        "\n",
        "  **Expected output:**\n",
        "\n",
        "  {2, 5}\n",
        "\n",
        "  Note: The order does not matter\n",
        "\n",
        "\n"
      ]
    },
    {
      "cell_type": "code",
      "execution_count": 59,
      "metadata": {
        "id": "jZXbbssNFAdT"
      },
      "outputs": [
        {
          "name": "stdout",
          "output_type": "stream",
          "text": [
            "{2, 5}\n"
          ]
        }
      ],
      "source": [
        "# Put your answer here\n",
        "\n",
        "def find_common(set1, set2):\n",
        "    # Use the intersection method to find common items and create a new set\n",
        "    common_set = set1.intersection(set2)\n",
        "    return common_set\n",
        "\n",
        "set1 = {1, 2, 3, 4, 5}\n",
        "set2 = {6, 7, 8, 2, 5}\n",
        "\n",
        "# Call the function to find the common items\n",
        "common_items = find_common(set1, set2)\n",
        "\n",
        "print(common_items)"
      ]
    },
    {
      "attachments": {},
      "cell_type": "markdown",
      "metadata": {
        "id": "J4rt3u9yGQk6"
      },
      "source": [
        "5. Given the two sets\n",
        "\n",
        "  set1 = {\"APPLE\", \"BANANA\" , \"MANGO\", \"DRAGONFRUIT\"}\n",
        "\n",
        "  set2 = {\"APPLE\", \"GUAVA\", \"CORN\", \"DRAGONFRUIT\"}\n",
        "\n",
        "  Remove items from set1 that are not common to both set1 and set2\n",
        "\n",
        "  --------------------------------\n",
        "\n",
        "  **Expected output:**\n",
        "\n",
        "  {\"APPLE\", \"DRAGONFRUIT\"}\n",
        "\n",
        "  Note: The order does not matter\n",
        "\n"
      ]
    },
    {
      "cell_type": "code",
      "execution_count": 2,
      "metadata": {
        "id": "jS1ptbx3GQ4o"
      },
      "outputs": [
        {
          "name": "stdout",
          "output_type": "stream",
          "text": [
            "{'APPLE', 'DRAGONFRUIT'}\n"
          ]
        }
      ],
      "source": [
        "# Put your answer here\n",
        "\n",
        "set1 = {\"APPLE\", \"BANANA\", \"MANGO\", \"DRAGONFRUIT\"}\n",
        "set2 = {\"APPLE\", \"GUAVA\", \"CORN\", \"DRAGONFRUIT\"}\n",
        "\n",
        "\n",
        "common_items = set1.intersection(set2)\n",
        "\n",
        "\n",
        "set1 = common_items\n",
        "\n",
        "print(set1)"
      ]
    },
    {
      "attachments": {},
      "cell_type": "markdown",
      "metadata": {
        "id": "S5qYFrqhJYh_"
      },
      "source": [
        "# Dictionary"
      ]
    },
    {
      "attachments": {},
      "cell_type": "markdown",
      "metadata": {
        "id": "Vz-lu0jbIVfi"
      },
      "source": [
        "1. Given the two lists below\n",
        "\n",
        "  keyslist = ['001', '002', '003']\n",
        "\n",
        "  valueslist = ['RED', 'BLUE', 'GREEN']\n",
        "\n",
        "  Use the **zip()** function to convert them into a dictionary where all items in the keyslist will be the key and the items in the valueslist will be the value\n",
        "\n",
        "  --------------------------------\n",
        "\n",
        "  **Expected output:**\n",
        "\n",
        "  {'001': 'RED', '002': 'BLUE', '003': 'GREEN'}\n",
        "\n",
        "  Note: The order does not matter"
      ]
    },
    {
      "cell_type": "code",
      "execution_count": 61,
      "metadata": {
        "id": "mqxbbzNfIUJ6"
      },
      "outputs": [
        {
          "name": "stdout",
          "output_type": "stream",
          "text": [
            "{'001': 'RED', '002': 'BLUE', '003': 'GREEN'}\n"
          ]
        }
      ],
      "source": [
        "# put your answer here\n",
        "\n",
        "keyslist = ['001', '002', '003']\n",
        "valueslist = ['RED', 'BLUE', 'GREEN']\n",
        "\n",
        "\n",
        "my_dict = dict(zip(keyslist, valueslist))\n",
        "\n",
        "print(my_dict)"
      ]
    },
    {
      "attachments": {},
      "cell_type": "markdown",
      "metadata": {
        "id": "syCyjMMQJtYt"
      },
      "source": [
        "2. Merge the two dictionaries below into a single dictionary\n",
        "\n",
        "  dict1 = {'001': 'A', '002': 'B', '003': 'C'}\n",
        "\n",
        "  dict2 = {'004': 'D', '005': 'E', '006': 'F'}\n",
        "\n",
        "  --------------------------------\n",
        "\n",
        "  **Expected output:**\n",
        "\n",
        "  {'001': 'A', '002': 'B', '003': 'C', '004': 'D', '005': 'E', '006': 'F'}\n",
        "\n",
        "  Note: The order does not matter\n",
        "\n"
      ]
    },
    {
      "cell_type": "code",
      "execution_count": 66,
      "metadata": {
        "id": "1cm1ta7pKTTL"
      },
      "outputs": [
        {
          "name": "stdout",
          "output_type": "stream",
          "text": [
            "{'001': 'A', '002': 'B', '003': 'C', '004': 'D', '005': 'E', '006': 'F'}\n"
          ]
        }
      ],
      "source": [
        "# put your answer here\n",
        "\n",
        "dict1 = {'001': 'A', '002': 'B', '003': 'C'}\n",
        "dict2 = {'004': 'D', '005': 'E', '006': 'F'}\n",
        "\n",
        "merged_dict = {**dict1, **dict2}\n",
        "\n",
        "print(merged_dict)"
      ]
    },
    {
      "attachments": {},
      "cell_type": "markdown",
      "metadata": {
        "id": "zgtELDVGKPs6"
      },
      "source": [
        "3. Given this dictionary\n",
        "\n",
        "    dict1 = {\n",
        "    \"name\": \"elizer\",\n",
        "    \"age\": 25,\n",
        "    \"surname\": \"ponio\",\n",
        "    \"city\": \"manila\"}\n",
        "\n",
        "  Create a new dictionary that will only contain elements extracted using the name and surname keys.\n",
        "\n",
        "  --------------------------------\n",
        "\n",
        "  **Expected output:**\n",
        "\n",
        "  {'name': 'elizer', 'surname': ponio}\n",
        "\n",
        "  Note: The order does not matter"
      ]
    },
    {
      "cell_type": "code",
      "execution_count": 1,
      "metadata": {
        "id": "CCFaPPdfKOhJ"
      },
      "outputs": [
        {
          "name": "stdout",
          "output_type": "stream",
          "text": [
            "{'name': 'elizer', 'surname': 'ponio'}\n"
          ]
        }
      ],
      "source": [
        "# put your answer here\n",
        "\n",
        "dict1 = {\n",
        "    \"name\": \"elizer\",\n",
        "    \"age\": 25,\n",
        "    \"surname\": \"ponio\",\n",
        "    \"city\": \"manila\"\n",
        "}\n",
        "\n",
        "new_dict = {\n",
        "    \"name\": dict1[\"name\"],\n",
        "    \"surname\": dict1[\"surname\"]\n",
        "}\n",
        "\n",
        "print(new_dict)\n"
      ]
    },
    {
      "attachments": {},
      "cell_type": "markdown",
      "metadata": {
        "id": "4dAHmssXKOyX"
      },
      "source": [
        "4. Given this dictionary\n",
        "\n",
        "    dict1 = {\n",
        "    \"name\": \"elizer\",\n",
        "    \"age\": 25,\n",
        "    \"surname\": \"ponio\",\n",
        "    \"city\": \"New york\"}\n",
        "\n",
        "  Check if the value \"ponio\" is present in the dictionary\n",
        "\n",
        "  --------------------------------\n",
        "\n",
        "  **Expected output:**\n",
        "\n",
        "  \"ponio\" exists in the dictionary\n",
        "\n",
        "  Note: The order does not matter"
      ]
    },
    {
      "cell_type": "code",
      "execution_count": 3,
      "metadata": {
        "id": "vE5z05MILtDX"
      },
      "outputs": [
        {
          "name": "stdout",
          "output_type": "stream",
          "text": [
            "\"ponio\" exists in the dictionary\n"
          ]
        }
      ],
      "source": [
        "# put your answer here\n",
        "\n",
        "dict1 = {\n",
        "    \"name\": \"elizer\",\n",
        "    \"age\": 25,\n",
        "    \"surname\": \"ponio\",\n",
        "    \"city\": \"New York\"\n",
        "}\n",
        "\n",
        "if \"ponio\" in dict1.values():\n",
        "    print('\"ponio\" exists in the dictionary')\n",
        "else:\n",
        "    print('\"ponio\" does not exist in the dictionary')\n"
      ]
    },
    {
      "attachments": {},
      "cell_type": "markdown",
      "metadata": {
        "id": "Diz40L2uLq9c"
      },
      "source": [
        "5. Given this dictionary\n",
        "\n",
        "    dict1 = {\n",
        "    \"name\": \"elizer\",\n",
        "    \"age\": 25,\n",
        "    \"surname\": \"ponio\",\n",
        "    \"city\": \"manila\"}\n",
        "\n",
        "  Rename the key \"name\" to \"firstname\"\n",
        "\n",
        "  --------------------------------\n",
        "\n",
        "  **Expected output:**\n",
        "\n",
        "    {\n",
        "    \"firstname\": \"elizer\",\n",
        "    \"age\": 25,\n",
        "    \"surname\": \"ponio\",\n",
        "    \"city\": \"manila\"}\n",
        "\n",
        "  Note: The order does not matter"
      ]
    },
    {
      "cell_type": "code",
      "execution_count": 5,
      "metadata": {
        "id": "6V5oEAGGLQrO"
      },
      "outputs": [
        {
          "name": "stdout",
          "output_type": "stream",
          "text": [
            "{'age': 25, 'surname': 'ponio', 'city': 'manila', 'firstname': 'elizer'}\n"
          ]
        }
      ],
      "source": [
        "# put your answer here\n",
        "\n",
        "dict1 = {\n",
        "    \"name\": \"elizer\",\n",
        "    \"age\": 25,\n",
        "    \"surname\": \"ponio\",\n",
        "    \"city\": \"manila\"}\n",
        "\n",
        "dict1[\"firstname\"] = dict1[\"name\"]\n",
        "del dict1[\"name\"]\n",
        "\n",
        "print(dict1)"
      ]
    }
  ],
  "metadata": {
    "colab": {
      "authorship_tag": "ABX9TyNjGrJAf4K66+KvYUNDh8ME",
      "collapsed_sections": [
        "DKVjMPyB2TaJ",
        "wy1NZOp49iC7",
        "xlFYHSIYCTT3"
      ],
      "include_colab_link": true,
      "provenance": []
    },
    "kernelspec": {
      "display_name": "Python 3",
      "name": "python3"
    },
    "language_info": {
      "codemirror_mode": {
        "name": "ipython",
        "version": 3
      },
      "file_extension": ".py",
      "mimetype": "text/x-python",
      "name": "python",
      "nbconvert_exporter": "python",
      "pygments_lexer": "ipython3",
      "version": "3.10.11"
    }
  },
  "nbformat": 4,
  "nbformat_minor": 0
}
